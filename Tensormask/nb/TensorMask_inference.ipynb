{
 "cells": [
  {
   "cell_type": "code",
   "execution_count": null,
   "metadata": {
    "pycharm": {
     "name": "#%%\n"
    }
   },
   "outputs": [],
   "source": [
    "import os\n",
    "import sys\n",
    "import torch\n",
    "import torchvision\n",
    "\n",
    "os.chdir(\"..\")\n",
    "\n",
    "%load_ext autoreload\n",
    "%autoreload 2\n",
    "\n",
    "from detectron2.utils import comm\n",
    "from detectron2.checkpoint import DetectionCheckpointer\n",
    "from detectron2.config import get_cfg\n",
    "from detectron2.engine import (\n",
    "    DefaultTrainer,\n",
    "    DefaultPredictor,\n",
    "    default_argument_parser,\n",
    "    default_setup,\n",
    "    launch,\n",
    ")\n",
    "from detectron2.evaluation import COCOEvaluator, verify_results\n",
    "from detectron2.data.datasets import register_coco_instances\n",
    "from detectron2.data import MetadataCatalog, DatasetCatalog\n",
    "import random, cv2\n",
    "import numpy as np\n",
    "# import albumentations as A\n",
    "\n",
    "sys.path.append(\"detectron2_repo/projects/TensorMask\")\n",
    "\n",
    "from lib import coco_handler, copy_and_paste_augm, constants\n",
    "from lib.detectron2_utils import *\n",
    "from lib.copy_and_paste_detectron import *\n",
    "\n",
    "from tensormask import add_tensormask_config\n",
    "import tensormask\n",
    "\n",
    "import warnings\n",
    "from glob import glob"
   ]
  },
  {
   "cell_type": "code",
   "execution_count": null,
   "metadata": {
    "pycharm": {
     "name": "#%%\n"
    }
   },
   "outputs": [],
   "source": [
    "cfg = get_cfg()\n",
    "add_tensormask_config(cfg)\n",
    "cfg.merge_from_file(\"configs/fixed_image_config.yaml\")\n",
    "# cfg.DATASETS.TRAIN = (\"train\",)\n",
    "# cfg.DATASETS.TEST = (\"val\",)\n",
    "# cfg.OUTPUT_DIR = \"./output/better_aug_empty_images/\"\n",
    "# cfg.DATALOADER.NUM_WORKERS = 2\n",
    "# cfg.SOLVER.IMS_PER_BATCH = 2\n",
    "# cfg.SOLVER.MAX_ITER = 30001\n",
    "# cfg.SOLVER.STEPS = (20000, 30000)\n",
    "cfg.MODEL.TENSOR_MASK.NUM_CLASSES = 1\n",
    "# cfg.TEST.EVAL_PERIOD = 500\n",
    "# cfg.SOLVER.LR = 0.0005\n",
    "# cfg.MODEL.TENSOR_MASK.SCORE_THRESH_TEST = 0.25\n",
    "create_output(cfg)"
   ]
  },
  {
   "cell_type": "code",
   "execution_count": null,
   "metadata": {
    "pycharm": {
     "name": "#%%\n"
    }
   },
   "outputs": [],
   "source": [
    "cfg.MODEL.WEIGHTS = os.path.join(\"output\", \"Colab_train\", \"model_final.pth\")\n",
    "cfg.MODEL.TENSOR_MASK.SCORE_THRESH_TEST = 0.10\n",
    "predictor = DefaultPredictor(cfg)"
   ]
  },
  {
   "cell_type": "markdown",
   "metadata": {
    "pycharm": {
     "name": "#%% md\n"
    }
   },
   "source": [
    "NOTE: stuff seems to work quite bad if the images are processed with out histogram spreading (preview option during processing). To archive reasonable performance use this option during image extraction!!"
   ]
  },
  {
   "cell_type": "code",
   "execution_count": null,
   "metadata": {
    "collapsed": false,
    "jupyter": {
     "outputs_hidden": false
    },
    "pycharm": {
     "name": "#%%\n"
    }
   },
   "outputs": [],
   "source": [
    "fails = []\n",
    "for s in glob(\"../data/annotated/*/\"):\n",
    "    dis = s.split(\"/\")[-2]\n",
    "    if \"bone_age\" in dis:\n",
    "        continue\n",
    "    os.makedirs(f\"output_new/{dis}\", exist_ok=True)\n",
    "    print(dis)\n",
    "    for img_path in tqdm(glob(f\"../data/annotated/{dis}/*\")):\n",
    "        try:\n",
    "            im = cv2.imread(img_path).astype(np.float32)\n",
    "            im -= np.min(im)\n",
    "            im /= np.max(im)\n",
    "            im = (im * 255).astype(np.uint8)\n",
    "            outputs = predictor(im)\n",
    "            masks = outputs[\"instances\"].pred_masks.cpu().numpy().astype(np.uint8)\n",
    "            n = masks.shape[0]\n",
    "            conts = []\n",
    "            for i in range(n):\n",
    "                contours , _ = cv2.findContours(masks[i], cv2.RETR_TREE, cv2.CHAIN_APPROX_SIMPLE)\n",
    "                conts += contours\n",
    "            c = max(conts, key = cv2.contourArea)\n",
    "            pred = cv2.drawContours(np.zeros(masks[i].shape), [c], -1, 255, -1)\n",
    "            pred *= 255\n",
    "            cv2.imwrite(f\"output_new/{dis}/{os.path.basename(img_path)}\", pred)\n",
    "        except:\n",
    "            print(f\"no mask found in {img_path}\")\n",
    "            fails.append(img_path)\n",
    "        break"
   ]
  },
  {
   "cell_type": "code",
   "execution_count": null,
   "metadata": {
    "pycharm": {
     "name": "#%%\n"
    }
   },
   "outputs": [],
   "source": [
    "fails = []\n",
    "for s in glob(\"../data/annotated/*/\"):\n",
    "    dis = s.split(\"/\")[-2]\n",
    "    if \"bone_age\" in dis:\n",
    "        continue\n",
    "    os.makedirs(f\"output_new/{dis}\", exist_ok=True)\n",
    "    print(dis)\n",
    "    for img_path in glob(f\"../data/annotated/{dis}/*\"):\n",
    "        try:\n",
    "            im = cv2.imread(img_path).astype(np.float32)\n",
    "#             im -= np.min(im)\n",
    "#             im /= np.max(im)\n",
    "#             im = (im * 255).astype(np.uint8)\n",
    "            outputs = predictor(im)\n",
    "            masks = outputs[\"instances\"].pred_masks.cpu().numpy().astype(np.uint8)\n",
    "            n = masks.shape[0]\n",
    "            conts = []\n",
    "            for i in range(n):\n",
    "                contours , _ = cv2.findContours(masks[i], cv2.RETR_TREE, cv2.CHAIN_APPROX_SIMPLE)\n",
    "                conts += contours\n",
    "            c = max(conts, key = cv2.contourArea)\n",
    "            pred = cv2.drawContours(np.zeros(masks[i].shape), [c], -1, 255, -1)\n",
    "            pred *= 255\n",
    "            cv2.imwrite(f\"output_new/{dis}/{os.path.basename(img_path)}\", pred)\n",
    "        except:\n",
    "            print(f\"no mask found in {img_path}\")\n",
    "            fails.append(img_path)"
   ]
  },
  {
   "cell_type": "code",
   "execution_count": null,
   "metadata": {
    "pycharm": {
     "name": "#%%\n"
    }
   },
   "outputs": [],
   "source": [
    "for s in tqdm(glob(\"../data/annotated/rsna_bone_age/bone_age_training_data_set/*\")):\n",
    "    n = int(s.split(\"/\")[-1].replace(\".png\", \"\"))\n",
    "    if not os.path.exists(f\"output/Colab_train/inference/bone_age_train/{n}.png\"):\n",
    "        try:\n",
    "            im = cv2.imread(s).astype(np.float32)\n",
    "            im -= np.min(im)\n",
    "            im /= np.max(im)\n",
    "            im = (im * 255).astype(np.uint8)\n",
    "            outputs = predictor(im)\n",
    "            pred = outputs[\"instances\"].pred_masks.cpu().numpy()[0, :, :].astype(np.uint8)\n",
    "            pred *= 255\n",
    "            pred = pred\n",
    "            cv2.imwrite(f\"output/Colab_train/inference/bone_age_train/{n}.png\", pred)\n",
    "        except:\n",
    "            print(f\"no mask found in {os.path.basename(s)}\")"
   ]
  }
 ],
 "metadata": {
  "kernelspec": {
   "display_name": "Python 3 (ipykernel)",
   "language": "python",
   "name": "python3"
  },
  "language_info": {
   "codemirror_mode": {
    "name": "ipython",
    "version": 3
   },
   "file_extension": ".py",
   "mimetype": "text/x-python",
   "name": "python",
   "nbconvert_exporter": "python",
   "pygments_lexer": "ipython3",
   "version": "3.9.7"
  }
 },
 "nbformat": 4,
 "nbformat_minor": 4
}
